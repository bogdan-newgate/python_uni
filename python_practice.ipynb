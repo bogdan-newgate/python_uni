{
 "cells": [
  {
   "cell_type": "markdown",
   "id": "daefa73c",
   "metadata": {},
   "source": [
    "# № 1"
   ]
  },
  {
   "cell_type": "code",
   "execution_count": 1,
   "id": "62852019",
   "metadata": {},
   "outputs": [],
   "source": [
    "def Number(n):\n",
    "    num = 0\n",
    "    while n != 1:\n",
    "        if n%2 == 0:\n",
    "            n = n/2\n",
    "        else:\n",
    "            n = 3*n + 1\n",
    "        num +=1\n",
    "    return num + 1"
   ]
  },
  {
   "cell_type": "code",
   "execution_count": 2,
   "id": "2eb93720",
   "metadata": {},
   "outputs": [
    {
     "name": "stdout",
     "output_type": "stream",
     "text": [
      "871\n"
     ]
    }
   ],
   "source": [
    "max = 0\n",
    "\n",
    "for i in range(1, 1000):\n",
    "    btw = Number(i)\n",
    "    if btw > max:\n",
    "        max = btw\n",
    "        \n",
    "for i in range(1, 1000):\n",
    "    btw = Number(i)\n",
    "    if btw == max:\n",
    "        print (i)"
   ]
  },
  {
   "cell_type": "markdown",
   "id": "2c47a316",
   "metadata": {},
   "source": [
    "# № 2"
   ]
  },
  {
   "cell_type": "code",
   "execution_count": 4,
   "id": "a02e5c0f",
   "metadata": {},
   "outputs": [
    {
     "name": "stdout",
     "output_type": "stream",
     "text": [
      "Введите число n\n",
      "100\n",
      "91\n"
     ]
    }
   ],
   "source": [
    "print(\"Введите число n\")\n",
    "n = input()\n",
    "s = 0\n",
    "for i in range(0, int(n)):\n",
    "    if len(str(i)) == len(set(str(i))):\n",
    "        s += 1\n",
    "print(s)"
   ]
  },
  {
   "cell_type": "markdown",
   "id": "ca179544",
   "metadata": {},
   "source": [
    "# № 3"
   ]
  },
  {
   "cell_type": "code",
   "execution_count": 5,
   "id": "c1738e1c",
   "metadata": {},
   "outputs": [],
   "source": [
    "def max_sublist(l):\n",
    "    best = cur = 0\n",
    "    curi = starti = besti = 0\n",
    "    for ind, i in enumerate(l):\n",
    "        if cur+i > 0:\n",
    "            cur += i\n",
    "        else:\n",
    "            cur, curi = 0, ind+1\n",
    "\n",
    "        if cur > best:\n",
    "            starti, besti, best = curi, ind+1, cur\n",
    "    return l[starti:besti]"
   ]
  },
  {
   "cell_type": "code",
   "execution_count": 6,
   "id": "d22e2cf5",
   "metadata": {},
   "outputs": [],
   "source": [
    "array = [-2, 1, -3, 4, -1, 2, 1, -5, 4]"
   ]
  },
  {
   "cell_type": "code",
   "execution_count": 7,
   "id": "ac17cefa",
   "metadata": {},
   "outputs": [
    {
     "data": {
      "text/plain": [
       "[4, -1, 2, 1]"
      ]
     },
     "execution_count": 7,
     "metadata": {},
     "output_type": "execute_result"
    }
   ],
   "source": [
    "max_sublist(array)"
   ]
  },
  {
   "cell_type": "code",
   "execution_count": null,
   "id": "bd1cbd76",
   "metadata": {},
   "outputs": [],
   "source": []
  }
 ],
 "metadata": {
  "kernelspec": {
   "display_name": "Python 3",
   "language": "python",
   "name": "python3"
  },
  "language_info": {
   "codemirror_mode": {
    "name": "ipython",
    "version": 3
   },
   "file_extension": ".py",
   "mimetype": "text/x-python",
   "name": "python",
   "nbconvert_exporter": "python",
   "pygments_lexer": "ipython3",
   "version": "3.8.8"
  }
 },
 "nbformat": 4,
 "nbformat_minor": 5
}
